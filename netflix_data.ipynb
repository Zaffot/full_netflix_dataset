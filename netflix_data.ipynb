{
 "cells": [
  {
   "cell_type": "markdown",
   "metadata": {},
   "source": [
    "## FULL NETFLIX DATASET"
   ]
  },
  {
   "cell_type": "markdown",
   "metadata": {},
   "source": []
  },
  {
   "cell_type": "code",
   "execution_count": 22,
   "metadata": {},
   "outputs": [],
   "source": [
    "#Alustukset\n",
    "\n",
    "import pandas as pd\n",
    "import numpy as np\n",
    "import matplotlib.pyplot as plt\n",
    "\n",
    "data_path = \"./data/full_netflix_dataset.csv\"\n",
    "\n",
    "# Datasetin osoite: https://www.kaggle.com/datasets/octopusteam/full-netflix-dataset\n",
    "\n"
   ]
  },
  {
   "cell_type": "code",
   "execution_count": 23,
   "metadata": {},
   "outputs": [
    {
     "data": {
      "text/html": [
       "<div>\n",
       "<style scoped>\n",
       "    .dataframe tbody tr th:only-of-type {\n",
       "        vertical-align: middle;\n",
       "    }\n",
       "\n",
       "    .dataframe tbody tr th {\n",
       "        vertical-align: top;\n",
       "    }\n",
       "\n",
       "    .dataframe thead th {\n",
       "        text-align: right;\n",
       "    }\n",
       "</style>\n",
       "<table border=\"1\" class=\"dataframe\">\n",
       "  <thead>\n",
       "    <tr style=\"text-align: right;\">\n",
       "      <th></th>\n",
       "      <th>title</th>\n",
       "      <th>type</th>\n",
       "      <th>genres</th>\n",
       "      <th>releaseYear</th>\n",
       "      <th>imdbId</th>\n",
       "      <th>imdbAverageRating</th>\n",
       "      <th>imdbNumVotes</th>\n",
       "      <th>availableCountries</th>\n",
       "    </tr>\n",
       "  </thead>\n",
       "  <tbody>\n",
       "    <tr>\n",
       "      <th>0</th>\n",
       "      <td>The Fifth Element</td>\n",
       "      <td>movie</td>\n",
       "      <td>Action, Adventure, Sci-Fi</td>\n",
       "      <td>1997.0</td>\n",
       "      <td>tt0119116</td>\n",
       "      <td>7.6</td>\n",
       "      <td>517695.0</td>\n",
       "      <td>AT, CH, DE</td>\n",
       "    </tr>\n",
       "    <tr>\n",
       "      <th>1</th>\n",
       "      <td>Kill Bill: Vol. 1</td>\n",
       "      <td>movie</td>\n",
       "      <td>Action, Crime, Thriller</td>\n",
       "      <td>2003.0</td>\n",
       "      <td>tt0266697</td>\n",
       "      <td>8.2</td>\n",
       "      <td>1223453.0</td>\n",
       "      <td>AE, AL, AO, AT, AU, AZ, BG, BH, BY, CA, CI, CM...</td>\n",
       "    </tr>\n",
       "    <tr>\n",
       "      <th>2</th>\n",
       "      <td>Jarhead</td>\n",
       "      <td>movie</td>\n",
       "      <td>Biography, Drama, War</td>\n",
       "      <td>2005.0</td>\n",
       "      <td>tt0418763</td>\n",
       "      <td>7.0</td>\n",
       "      <td>211879.0</td>\n",
       "      <td>AD, AE, AG, AL, AO, AT, AZ, BA, BG, BH, BM, BR...</td>\n",
       "    </tr>\n",
       "    <tr>\n",
       "      <th>3</th>\n",
       "      <td>Unforgiven</td>\n",
       "      <td>movie</td>\n",
       "      <td>Drama, Western</td>\n",
       "      <td>1992.0</td>\n",
       "      <td>tt0105695</td>\n",
       "      <td>8.2</td>\n",
       "      <td>444499.0</td>\n",
       "      <td>AU, BA, BG, CZ, HR, HU, MD, ME, MK, NZ, PL, RO...</td>\n",
       "    </tr>\n",
       "    <tr>\n",
       "      <th>4</th>\n",
       "      <td>Eternal Sunshine of the Spotless Mind</td>\n",
       "      <td>movie</td>\n",
       "      <td>Drama, Romance, Sci-Fi</td>\n",
       "      <td>2004.0</td>\n",
       "      <td>tt0338013</td>\n",
       "      <td>8.3</td>\n",
       "      <td>1106519.0</td>\n",
       "      <td>AD, AE, AG, AL, AO, AR, AU, AZ, BA, BB, BE, BG...</td>\n",
       "    </tr>\n",
       "    <tr>\n",
       "      <th>...</th>\n",
       "      <td>...</td>\n",
       "      <td>...</td>\n",
       "      <td>...</td>\n",
       "      <td>...</td>\n",
       "      <td>...</td>\n",
       "      <td>...</td>\n",
       "      <td>...</td>\n",
       "      <td>...</td>\n",
       "    </tr>\n",
       "    <tr>\n",
       "      <th>20191</th>\n",
       "      <td>NaN</td>\n",
       "      <td>tv</td>\n",
       "      <td>NaN</td>\n",
       "      <td>2024.0</td>\n",
       "      <td>NaN</td>\n",
       "      <td>NaN</td>\n",
       "      <td>NaN</td>\n",
       "      <td>AL, AZ, BA, BG, BY, CY, EE, FR, GF, HU, IT, LT...</td>\n",
       "    </tr>\n",
       "    <tr>\n",
       "      <th>20192</th>\n",
       "      <td>NaN</td>\n",
       "      <td>tv</td>\n",
       "      <td>Drama</td>\n",
       "      <td>2024.0</td>\n",
       "      <td>NaN</td>\n",
       "      <td>NaN</td>\n",
       "      <td>NaN</td>\n",
       "      <td>AO, CI, CM, CV, GH, GQ, KE, MG, ML, MU, MZ, NE...</td>\n",
       "    </tr>\n",
       "    <tr>\n",
       "      <th>20193</th>\n",
       "      <td>NaN</td>\n",
       "      <td>tv</td>\n",
       "      <td>Animation, Action &amp; Adventure</td>\n",
       "      <td>2016.0</td>\n",
       "      <td>NaN</td>\n",
       "      <td>NaN</td>\n",
       "      <td>NaN</td>\n",
       "      <td>FJ, HK, ID, IN, JP, KR, MU, MY, PH, PK, SG, TH...</td>\n",
       "    </tr>\n",
       "    <tr>\n",
       "      <th>20194</th>\n",
       "      <td>NaN</td>\n",
       "      <td>tv</td>\n",
       "      <td>NaN</td>\n",
       "      <td>NaN</td>\n",
       "      <td>NaN</td>\n",
       "      <td>NaN</td>\n",
       "      <td>NaN</td>\n",
       "      <td>FJ, HK, ID, IN, JP, KR, MU, MY, PH, PK, SG, TH...</td>\n",
       "    </tr>\n",
       "    <tr>\n",
       "      <th>20195</th>\n",
       "      <td>Blippi's Ultimate Bounce House Challenges</td>\n",
       "      <td>tv</td>\n",
       "      <td>NaN</td>\n",
       "      <td>2024.0</td>\n",
       "      <td>tt33769880</td>\n",
       "      <td>NaN</td>\n",
       "      <td>NaN</td>\n",
       "      <td>AG, AL, AO, AU, AZ, BA, BB, BG, BM, BS, BY, BZ...</td>\n",
       "    </tr>\n",
       "  </tbody>\n",
       "</table>\n",
       "<p>20196 rows × 8 columns</p>\n",
       "</div>"
      ],
      "text/plain": [
       "                                           title   type  \\\n",
       "0                              The Fifth Element  movie   \n",
       "1                              Kill Bill: Vol. 1  movie   \n",
       "2                                        Jarhead  movie   \n",
       "3                                     Unforgiven  movie   \n",
       "4          Eternal Sunshine of the Spotless Mind  movie   \n",
       "...                                          ...    ...   \n",
       "20191                                        NaN     tv   \n",
       "20192                                        NaN     tv   \n",
       "20193                                        NaN     tv   \n",
       "20194                                        NaN     tv   \n",
       "20195  Blippi's Ultimate Bounce House Challenges     tv   \n",
       "\n",
       "                              genres  releaseYear      imdbId  \\\n",
       "0          Action, Adventure, Sci-Fi       1997.0   tt0119116   \n",
       "1            Action, Crime, Thriller       2003.0   tt0266697   \n",
       "2              Biography, Drama, War       2005.0   tt0418763   \n",
       "3                     Drama, Western       1992.0   tt0105695   \n",
       "4             Drama, Romance, Sci-Fi       2004.0   tt0338013   \n",
       "...                              ...          ...         ...   \n",
       "20191                            NaN       2024.0         NaN   \n",
       "20192                          Drama       2024.0         NaN   \n",
       "20193  Animation, Action & Adventure       2016.0         NaN   \n",
       "20194                            NaN          NaN         NaN   \n",
       "20195                            NaN       2024.0  tt33769880   \n",
       "\n",
       "       imdbAverageRating  imdbNumVotes  \\\n",
       "0                    7.6      517695.0   \n",
       "1                    8.2     1223453.0   \n",
       "2                    7.0      211879.0   \n",
       "3                    8.2      444499.0   \n",
       "4                    8.3     1106519.0   \n",
       "...                  ...           ...   \n",
       "20191                NaN           NaN   \n",
       "20192                NaN           NaN   \n",
       "20193                NaN           NaN   \n",
       "20194                NaN           NaN   \n",
       "20195                NaN           NaN   \n",
       "\n",
       "                                      availableCountries  \n",
       "0                                             AT, CH, DE  \n",
       "1      AE, AL, AO, AT, AU, AZ, BG, BH, BY, CA, CI, CM...  \n",
       "2      AD, AE, AG, AL, AO, AT, AZ, BA, BG, BH, BM, BR...  \n",
       "3      AU, BA, BG, CZ, HR, HU, MD, ME, MK, NZ, PL, RO...  \n",
       "4      AD, AE, AG, AL, AO, AR, AU, AZ, BA, BB, BE, BG...  \n",
       "...                                                  ...  \n",
       "20191  AL, AZ, BA, BG, BY, CY, EE, FR, GF, HU, IT, LT...  \n",
       "20192  AO, CI, CM, CV, GH, GQ, KE, MG, ML, MU, MZ, NE...  \n",
       "20193  FJ, HK, ID, IN, JP, KR, MU, MY, PH, PK, SG, TH...  \n",
       "20194  FJ, HK, ID, IN, JP, KR, MU, MY, PH, PK, SG, TH...  \n",
       "20195  AG, AL, AO, AU, AZ, BA, BB, BG, BM, BS, BY, BZ...  \n",
       "\n",
       "[20196 rows x 8 columns]"
      ]
     },
     "execution_count": 23,
     "metadata": {},
     "output_type": "execute_result"
    }
   ],
   "source": [
    "#luodaan tiedostosta dataframe ja tulostetaan se.\n",
    "\n",
    "netflix_df = pd.read_csv(data_path)\n",
    "\n",
    "netflix_df"
   ]
  },
  {
   "cell_type": "code",
   "execution_count": 24,
   "metadata": {},
   "outputs": [
    {
     "name": "stdout",
     "output_type": "stream",
     "text": [
      "                                   title   type                     genres  \\\n",
      "0                      The Fifth Element  movie  Action, Adventure, Sci-Fi   \n",
      "1                      Kill Bill: Vol. 1  movie    Action, Crime, Thriller   \n",
      "2                                Jarhead  movie      Biography, Drama, War   \n",
      "3                             Unforgiven  movie             Drama, Western   \n",
      "4  Eternal Sunshine of the Spotless Mind  movie     Drama, Romance, Sci-Fi   \n",
      "\n",
      "   releaseYear     imdbId  imdbAverageRating  imdbNumVotes  \\\n",
      "0       1997.0  tt0119116                7.6      517695.0   \n",
      "1       2003.0  tt0266697                8.2     1223453.0   \n",
      "2       2005.0  tt0418763                7.0      211879.0   \n",
      "3       1992.0  tt0105695                8.2      444499.0   \n",
      "4       2004.0  tt0338013                8.3     1106519.0   \n",
      "\n",
      "                                  availableCountries  \n",
      "0                                         AT, CH, DE  \n",
      "1  AE, AL, AO, AT, AU, AZ, BG, BH, BY, CA, CI, CM...  \n",
      "2  AD, AE, AG, AL, AO, AT, AZ, BA, BG, BH, BM, BR...  \n",
      "3  AU, BA, BG, CZ, HR, HU, MD, ME, MK, NZ, PL, RO...  \n",
      "4  AD, AE, AG, AL, AO, AR, AU, AZ, BA, BB, BE, BG...  \n"
     ]
    }
   ],
   "source": [
    "print(netflix_df.head())"
   ]
  },
  {
   "cell_type": "code",
   "execution_count": 25,
   "metadata": {},
   "outputs": [
    {
     "name": "stdout",
     "output_type": "stream",
     "text": [
      "<class 'pandas.core.frame.DataFrame'>\n",
      "RangeIndex: 20196 entries, 0 to 20195\n",
      "Data columns (total 8 columns):\n",
      " #   Column              Non-Null Count  Dtype  \n",
      "---  ------              --------------  -----  \n",
      " 0   title               19682 non-null  object \n",
      " 1   type                20196 non-null  object \n",
      " 2   genres              19928 non-null  object \n",
      " 3   releaseYear         20181 non-null  float64\n",
      " 4   imdbId              18887 non-null  object \n",
      " 5   imdbAverageRating   18734 non-null  float64\n",
      " 6   imdbNumVotes        18734 non-null  float64\n",
      " 7   availableCountries  20196 non-null  object \n",
      "dtypes: float64(3), object(5)\n",
      "memory usage: 1.2+ MB\n",
      "None\n"
     ]
    }
   ],
   "source": [
    "print(netflix_df.info())"
   ]
  },
  {
   "cell_type": "code",
   "execution_count": 26,
   "metadata": {},
   "outputs": [
    {
     "name": "stdout",
     "output_type": "stream",
     "text": [
      "        releaseYear  imdbAverageRating  imdbNumVotes\n",
      "count  20181.000000       18734.000000  1.873400e+04\n",
      "mean    2012.936078           6.399664  3.201550e+04\n",
      "std       14.401484           1.092814  1.199338e+05\n",
      "min     1913.000000           1.200000  5.000000e+00\n",
      "25%     2011.000000           5.800000  3.420000e+02\n",
      "50%     2018.000000           6.500000  1.638000e+03\n",
      "75%     2021.000000           7.200000  1.054950e+04\n",
      "max     2025.000000           9.500000  2.965793e+06\n"
     ]
    }
   ],
   "source": [
    "print(netflix_df.describe())"
   ]
  },
  {
   "cell_type": "code",
   "execution_count": 27,
   "metadata": {},
   "outputs": [
    {
     "name": "stdout",
     "output_type": "stream",
     "text": [
      "      title type   genres  releaseYear imdbId  imdbAverageRating  \\\n",
      "18123   NaN   tv  Reality       2020.0    NaN                NaN   \n",
      "18212   NaN   tv  Reality       2020.0    NaN                NaN   \n",
      "18302   NaN   tv      NaN       2021.0    NaN                NaN   \n",
      "18344   NaN   tv  Reality       2021.0    NaN                NaN   \n",
      "18367   NaN   tv  Reality       2021.0    NaN                NaN   \n",
      "...     ...  ...      ...          ...    ...                ...   \n",
      "20147   NaN   tv  Reality       2024.0    NaN                NaN   \n",
      "20151   NaN   tv  Reality       2024.0    NaN                NaN   \n",
      "20172   NaN   tv      NaN       2024.0    NaN                NaN   \n",
      "20174   NaN   tv     Kids       2024.0    NaN                NaN   \n",
      "20177   NaN   tv  Reality       2024.0    NaN                NaN   \n",
      "\n",
      "       imdbNumVotes availableCountries  \n",
      "18123           NaN                 KR  \n",
      "18212           NaN                 KR  \n",
      "18302           NaN                 JP  \n",
      "18344           NaN                 KR  \n",
      "18367           NaN                 KR  \n",
      "...             ...                ...  \n",
      "20147           NaN                 KR  \n",
      "20151           NaN                 KR  \n",
      "20172           NaN                 JP  \n",
      "20174           NaN                 KR  \n",
      "20177           NaN                 KR  \n",
      "\n",
      "[85 rows x 8 columns]\n"
     ]
    }
   ],
   "source": [
    "# Tarkista, onko päällekkäisiä rivejä\n",
    "duplicates = netflix_df[netflix_df.duplicated()]\n",
    "\n",
    "# Tulosta päällekkäiset rivit\n",
    "print(duplicates)"
   ]
  },
  {
   "cell_type": "code",
   "execution_count": 28,
   "metadata": {},
   "outputs": [],
   "source": [
    "netflix_df = netflix_df.drop_duplicates()"
   ]
  },
  {
   "cell_type": "code",
   "execution_count": 29,
   "metadata": {},
   "outputs": [
    {
     "name": "stdout",
     "output_type": "stream",
     "text": [
      "Puuttuvat arvot sarakkeittain:\n",
      "title                  429\n",
      "type                     0\n",
      "genres                 259\n",
      "releaseYear             15\n",
      "imdbId                1224\n",
      "imdbAverageRating     1377\n",
      "imdbNumVotes          1377\n",
      "availableCountries       0\n",
      "dtype: int64\n"
     ]
    }
   ],
   "source": [
    "#Tarkastetaan puuttuvat arvot\n",
    "missing_values = netflix_df.isnull().sum()\n",
    "print(\"Puuttuvat arvot sarakkeittain:\")\n",
    "print(missing_values)"
   ]
  },
  {
   "cell_type": "code",
   "execution_count": 30,
   "metadata": {},
   "outputs": [
    {
     "name": "stdout",
     "output_type": "stream",
     "text": [
      "Datan koko puhdistamisen jälkeen: (18734, 8)\n"
     ]
    }
   ],
   "source": [
    "# Poista rivit, joissa on puuttuvia arvoja\n",
    "netflix_df_cleaned = netflix_df.dropna()\n",
    "\n",
    "# Tarkista datan koko puhdistamisen jälkeen\n",
    "print(\"Datan koko puhdistamisen jälkeen:\", netflix_df_cleaned.shape)"
   ]
  },
  {
   "cell_type": "code",
   "execution_count": 31,
   "metadata": {},
   "outputs": [
    {
     "name": "stdout",
     "output_type": "stream",
     "text": [
      "title                  object\n",
      "type                   object\n",
      "genres                 object\n",
      "releaseYear             int64\n",
      "imdbId                 object\n",
      "imdbAverageRating     float64\n",
      "imdbNumVotes          float64\n",
      "availableCountries     object\n",
      "dtype: object\n"
     ]
    },
    {
     "name": "stderr",
     "output_type": "stream",
     "text": [
      "C:\\Users\\brort\\AppData\\Local\\Temp\\ipykernel_11624\\695698120.py:1: SettingWithCopyWarning: \n",
      "A value is trying to be set on a copy of a slice from a DataFrame.\n",
      "Try using .loc[row_indexer,col_indexer] = value instead\n",
      "\n",
      "See the caveats in the documentation: https://pandas.pydata.org/pandas-docs/stable/user_guide/indexing.html#returning-a-view-versus-a-copy\n",
      "  netflix_df_cleaned['releaseYear'] = netflix_df_cleaned['releaseYear'].astype(int)\n"
     ]
    }
   ],
   "source": [
    "netflix_df_cleaned['releaseYear'] = netflix_df_cleaned['releaseYear'].astype(int)\n",
    "\n",
    "# Varmista, että muutos onnistui\n",
    "print(netflix_df_cleaned.dtypes)"
   ]
  },
  {
   "cell_type": "markdown",
   "metadata": {},
   "source": [
    "## laske puuttuvan datan osuus."
   ]
  },
  {
   "cell_type": "code",
   "execution_count": 32,
   "metadata": {},
   "outputs": [
    {
     "name": "stderr",
     "output_type": "stream",
     "text": [
      "C:\\Users\\brort\\AppData\\Local\\Temp\\ipykernel_11624\\905758604.py:1: SettingWithCopyWarning: \n",
      "A value is trying to be set on a copy of a slice from a DataFrame\n",
      "\n",
      "See the caveats in the documentation: https://pandas.pydata.org/pandas-docs/stable/user_guide/indexing.html#returning-a-view-versus-a-copy\n",
      "  netflix_df_cleaned.drop([\"imdbId\", \"imdbNumVotes\", \"availableCountries\"], axis=1, inplace= True)\n"
     ]
    }
   ],
   "source": [
    "netflix_df_cleaned.drop([\"imdbId\", \"imdbNumVotes\", \"availableCountries\"], axis=1, inplace= True)\n"
   ]
  },
  {
   "cell_type": "code",
   "execution_count": 33,
   "metadata": {},
   "outputs": [],
   "source": [
    "#Suodatus: Jätetään jäljelle rivit joiden type on movie.\n",
    "netflix_df_cleaned = netflix_df_cleaned[netflix_df_cleaned['type'] == 'movie']"
   ]
  },
  {
   "cell_type": "code",
   "execution_count": 34,
   "metadata": {},
   "outputs": [
    {
     "data": {
      "text/html": [
       "<div>\n",
       "<style scoped>\n",
       "    .dataframe tbody tr th:only-of-type {\n",
       "        vertical-align: middle;\n",
       "    }\n",
       "\n",
       "    .dataframe tbody tr th {\n",
       "        vertical-align: top;\n",
       "    }\n",
       "\n",
       "    .dataframe thead th {\n",
       "        text-align: right;\n",
       "    }\n",
       "</style>\n",
       "<table border=\"1\" class=\"dataframe\">\n",
       "  <thead>\n",
       "    <tr style=\"text-align: right;\">\n",
       "      <th></th>\n",
       "      <th>title</th>\n",
       "      <th>type</th>\n",
       "      <th>genres</th>\n",
       "      <th>releaseYear</th>\n",
       "      <th>imdbAverageRating</th>\n",
       "    </tr>\n",
       "  </thead>\n",
       "  <tbody>\n",
       "    <tr>\n",
       "      <th>0</th>\n",
       "      <td>The Fifth Element</td>\n",
       "      <td>movie</td>\n",
       "      <td>Action, Adventure, Sci-Fi</td>\n",
       "      <td>1997</td>\n",
       "      <td>7.6</td>\n",
       "    </tr>\n",
       "    <tr>\n",
       "      <th>1</th>\n",
       "      <td>Kill Bill: Vol. 1</td>\n",
       "      <td>movie</td>\n",
       "      <td>Action, Crime, Thriller</td>\n",
       "      <td>2003</td>\n",
       "      <td>8.2</td>\n",
       "    </tr>\n",
       "    <tr>\n",
       "      <th>2</th>\n",
       "      <td>Jarhead</td>\n",
       "      <td>movie</td>\n",
       "      <td>Biography, Drama, War</td>\n",
       "      <td>2005</td>\n",
       "      <td>7.0</td>\n",
       "    </tr>\n",
       "    <tr>\n",
       "      <th>3</th>\n",
       "      <td>Unforgiven</td>\n",
       "      <td>movie</td>\n",
       "      <td>Drama, Western</td>\n",
       "      <td>1992</td>\n",
       "      <td>8.2</td>\n",
       "    </tr>\n",
       "    <tr>\n",
       "      <th>4</th>\n",
       "      <td>Eternal Sunshine of the Spotless Mind</td>\n",
       "      <td>movie</td>\n",
       "      <td>Drama, Romance, Sci-Fi</td>\n",
       "      <td>2004</td>\n",
       "      <td>8.3</td>\n",
       "    </tr>\n",
       "    <tr>\n",
       "      <th>...</th>\n",
       "      <td>...</td>\n",
       "      <td>...</td>\n",
       "      <td>...</td>\n",
       "      <td>...</td>\n",
       "      <td>...</td>\n",
       "    </tr>\n",
       "    <tr>\n",
       "      <th>15510</th>\n",
       "      <td>It's All Over: The Kiss That Changed Spanish F...</td>\n",
       "      <td>movie</td>\n",
       "      <td>Documentary, Sport</td>\n",
       "      <td>2024</td>\n",
       "      <td>6.8</td>\n",
       "    </tr>\n",
       "    <tr>\n",
       "      <th>15518</th>\n",
       "      <td>Once in a Lifetime</td>\n",
       "      <td>movie</td>\n",
       "      <td>Documentary</td>\n",
       "      <td>2009</td>\n",
       "      <td>7.1</td>\n",
       "    </tr>\n",
       "    <tr>\n",
       "      <th>15520</th>\n",
       "      <td>Adrienne Iapalucci: The Dark Queen</td>\n",
       "      <td>movie</td>\n",
       "      <td>Comedy, Documentary</td>\n",
       "      <td>2024</td>\n",
       "      <td>6.6</td>\n",
       "    </tr>\n",
       "    <tr>\n",
       "      <th>15529</th>\n",
       "      <td>Nayanthara: Beyond the Fairy Tale</td>\n",
       "      <td>movie</td>\n",
       "      <td>Documentary</td>\n",
       "      <td>2024</td>\n",
       "      <td>4.0</td>\n",
       "    </tr>\n",
       "    <tr>\n",
       "      <th>15531</th>\n",
       "      <td>Chhota Bheem Aur Mahavinashini ka Vinaash</td>\n",
       "      <td>movie</td>\n",
       "      <td>Animation</td>\n",
       "      <td>2022</td>\n",
       "      <td>6.5</td>\n",
       "    </tr>\n",
       "  </tbody>\n",
       "</table>\n",
       "<p>14618 rows × 5 columns</p>\n",
       "</div>"
      ],
      "text/plain": [
       "                                                   title   type  \\\n",
       "0                                      The Fifth Element  movie   \n",
       "1                                      Kill Bill: Vol. 1  movie   \n",
       "2                                                Jarhead  movie   \n",
       "3                                             Unforgiven  movie   \n",
       "4                  Eternal Sunshine of the Spotless Mind  movie   \n",
       "...                                                  ...    ...   \n",
       "15510  It's All Over: The Kiss That Changed Spanish F...  movie   \n",
       "15518                                 Once in a Lifetime  movie   \n",
       "15520                 Adrienne Iapalucci: The Dark Queen  movie   \n",
       "15529                  Nayanthara: Beyond the Fairy Tale  movie   \n",
       "15531          Chhota Bheem Aur Mahavinashini ka Vinaash  movie   \n",
       "\n",
       "                          genres  releaseYear  imdbAverageRating  \n",
       "0      Action, Adventure, Sci-Fi         1997                7.6  \n",
       "1        Action, Crime, Thriller         2003                8.2  \n",
       "2          Biography, Drama, War         2005                7.0  \n",
       "3                 Drama, Western         1992                8.2  \n",
       "4         Drama, Romance, Sci-Fi         2004                8.3  \n",
       "...                          ...          ...                ...  \n",
       "15510         Documentary, Sport         2024                6.8  \n",
       "15518                Documentary         2009                7.1  \n",
       "15520        Comedy, Documentary         2024                6.6  \n",
       "15529                Documentary         2024                4.0  \n",
       "15531                  Animation         2022                6.5  \n",
       "\n",
       "[14618 rows x 5 columns]"
      ]
     },
     "execution_count": 34,
     "metadata": {},
     "output_type": "execute_result"
    }
   ],
   "source": [
    "#Varmistetaan data.\n",
    "netflix_df_cleaned\n"
   ]
  },
  {
   "cell_type": "code",
   "execution_count": 42,
   "metadata": {},
   "outputs": [
    {
     "name": "stdout",
     "output_type": "stream",
     "text": [
      "        releaseYear  imdbAverageRating\n",
      "count  14618.000000       14618.000000\n",
      "mean    2010.948557           6.217971\n",
      "std       15.928067           1.047387\n",
      "min     1913.000000           1.200000\n",
      "25%     2008.000000           5.600000\n",
      "50%     2017.000000           6.300000\n",
      "75%     2021.000000           6.900000\n",
      "max     2024.000000           9.400000\n"
     ]
    }
   ],
   "source": [
    "print(netflix_df_cleaned.describe())"
   ]
  },
  {
   "cell_type": "markdown",
   "metadata": {},
   "source": [
    "- Jaa yksi datasetin jatkuvaa numeerista dataa sisältävä sarake sopiviin luokkiin (käytä esimerkiksi `cut`- tai `qcut`-funktiota).  \n",
    "- Tunnista datasetistä poikkeavat arvot (outlierit). Jos datasetissä ei ole poikkeavia arvoja, voit satunnaisesti muokata osaa datasta.  \n",
    "- Päätä, mitä tehdä poikkeaville arvoille.  "
   ]
  },
  {
   "cell_type": "code",
   "execution_count": 35,
   "metadata": {},
   "outputs": [
    {
     "data": {
      "text/html": [
       "<div>\n",
       "<style scoped>\n",
       "    .dataframe tbody tr th:only-of-type {\n",
       "        vertical-align: middle;\n",
       "    }\n",
       "\n",
       "    .dataframe tbody tr th {\n",
       "        vertical-align: top;\n",
       "    }\n",
       "\n",
       "    .dataframe thead th {\n",
       "        text-align: right;\n",
       "    }\n",
       "</style>\n",
       "<table border=\"1\" class=\"dataframe\">\n",
       "  <thead>\n",
       "    <tr style=\"text-align: right;\">\n",
       "      <th></th>\n",
       "      <th>Count</th>\n",
       "    </tr>\n",
       "    <tr>\n",
       "      <th>releaseYear</th>\n",
       "      <th></th>\n",
       "    </tr>\n",
       "  </thead>\n",
       "  <tbody>\n",
       "    <tr>\n",
       "      <th>1913</th>\n",
       "      <td>1</td>\n",
       "    </tr>\n",
       "    <tr>\n",
       "      <th>1917</th>\n",
       "      <td>1</td>\n",
       "    </tr>\n",
       "    <tr>\n",
       "      <th>1918</th>\n",
       "      <td>1</td>\n",
       "    </tr>\n",
       "    <tr>\n",
       "      <th>1919</th>\n",
       "      <td>2</td>\n",
       "    </tr>\n",
       "    <tr>\n",
       "      <th>1920</th>\n",
       "      <td>2</td>\n",
       "    </tr>\n",
       "    <tr>\n",
       "      <th>...</th>\n",
       "      <td>...</td>\n",
       "    </tr>\n",
       "    <tr>\n",
       "      <th>2020</th>\n",
       "      <td>881</td>\n",
       "    </tr>\n",
       "    <tr>\n",
       "      <th>2021</th>\n",
       "      <td>953</td>\n",
       "    </tr>\n",
       "    <tr>\n",
       "      <th>2022</th>\n",
       "      <td>1187</td>\n",
       "    </tr>\n",
       "    <tr>\n",
       "      <th>2023</th>\n",
       "      <td>1047</td>\n",
       "    </tr>\n",
       "    <tr>\n",
       "      <th>2024</th>\n",
       "      <td>486</td>\n",
       "    </tr>\n",
       "  </tbody>\n",
       "</table>\n",
       "<p>105 rows × 1 columns</p>\n",
       "</div>"
      ],
      "text/plain": [
       "             Count\n",
       "releaseYear       \n",
       "1913             1\n",
       "1917             1\n",
       "1918             1\n",
       "1919             2\n",
       "1920             2\n",
       "...            ...\n",
       "2020           881\n",
       "2021           953\n",
       "2022          1187\n",
       "2023          1047\n",
       "2024           486\n",
       "\n",
       "[105 rows x 1 columns]"
      ]
     },
     "execution_count": 35,
     "metadata": {},
     "output_type": "execute_result"
    }
   ],
   "source": [
    "releaseYear_df=pd.crosstab(netflix_df_cleaned['releaseYear'],'Count')\n",
    "releaseYear_df.columns.name=''\n",
    "releaseYear_df"
   ]
  },
  {
   "cell_type": "code",
   "execution_count": 41,
   "metadata": {},
   "outputs": [
    {
     "name": "stdout",
     "output_type": "stream",
     "text": [
      "5 vuoden välein (tasaluvuin 0–4, 5–9, jne.):\n",
      "              Count\n",
      "5_year_bins        \n",
      "[1910, 1915)      1\n",
      "[1915, 1920)      4\n",
      "[1920, 1925)      5\n",
      "[1925, 1930)      9\n",
      "[1930, 1935)     14\n",
      "[1935, 1940)     29\n",
      "[1940, 1945)     26\n",
      "[1945, 1950)     52\n",
      "[1950, 1955)    120\n",
      "[1955, 1960)    132\n",
      "[1960, 1965)    127\n",
      "[1965, 1970)    113\n",
      "[1970, 1975)    153\n",
      "[1975, 1980)    143\n",
      "[1980, 1985)    197\n",
      "[1985, 1990)    223\n",
      "[1990, 1995)    264\n",
      "[1995, 2000)    363\n",
      "[2000, 2005)    787\n",
      "[2005, 2010)   1211\n",
      "[2010, 2015)   1929\n",
      "[2015, 2020)   4162\n",
      "[2020, 2025)   4554\n"
     ]
    }
   ],
   "source": [
    "# Luo binssit viiden vuoden välein tasaluvuin (0-4, 5-9 jne.)\n",
    "bins_5y = range(netflix_df_cleaned['releaseYear'].min() // 5 * 5, netflix_df_cleaned['releaseYear'].max() + 5, 5)\n",
    "\n",
    "# Luo uusi sarake, jossa julkaisuvuodet on jaettu 5 vuoden välein\n",
    "netflix_df_cleaned['5_year_bins'] = pd.cut(netflix_df_cleaned['releaseYear'], bins=bins_5y, right=False)\n",
    "\n",
    "# Crosstab 5 vuoden välein\n",
    "releaseYear_5y_df = pd.crosstab(netflix_df_cleaned['5_year_bins'], 'Count')\n",
    "releaseYear_5y_df.columns.name = ''\n",
    "\n",
    "# Tulosta taulukko\n",
    "print(\"5 vuoden välein (tasaluvuin 0–4, 5–9, jne.):\")\n",
    "print(releaseYear_5y_df)\n"
   ]
  },
  {
   "cell_type": "code",
   "execution_count": 37,
   "metadata": {},
   "outputs": [
    {
     "name": "stdout",
     "output_type": "stream",
     "text": [
      "\n",
      "Vuosikymmenten välein:\n",
      "              Count\n",
      "decade_bins        \n",
      "[1910, 1920)      5\n",
      "[1920, 1930)     14\n",
      "[1930, 1940)     43\n",
      "[1940, 1950)     78\n",
      "[1950, 1960)    252\n",
      "[1960, 1970)    240\n",
      "[1970, 1980)    296\n",
      "[1980, 1990)    420\n",
      "[1990, 2000)    627\n",
      "[2000, 2010)   1998\n",
      "[2010, 2020)   6091\n",
      "[2020, 2030)   4554\n"
     ]
    }
   ],
   "source": [
    "# Luo binssit vuosikymmeniä varten\n",
    "bins_decades = range(netflix_df_cleaned['releaseYear'].min() // 10 * 10, netflix_df_cleaned['releaseYear'].max() + 10, 10)\n",
    "\n",
    "# Luo uusi sarake, jossa julkaisuvuodet on jaettu vuosikymmeniin\n",
    "netflix_df_cleaned['decade_bins'] = pd.cut(netflix_df_cleaned['releaseYear'], bins=bins_decades, right=False)\n",
    "\n",
    "# Crosstab vuosikymmenten välein\n",
    "releaseYear_decades_df = pd.crosstab(netflix_df_cleaned['decade_bins'], 'Count')\n",
    "releaseYear_decades_df.columns.name = ''\n",
    "print(\"\\nVuosikymmenten välein:\")\n",
    "print(releaseYear_decades_df)"
   ]
  },
  {
   "cell_type": "markdown",
   "metadata": {},
   "source": [
    "**Dataobjektit ja attribuuttityypit**  \n",
    "- Tulosta datasetistä sarakkeiden nimet, jotka edustavat nimellisiä attribuutteja.  \n",
    "- Tulosta datasetistä sarakkeiden nimet, jotka edustavat binaarisia attribuutteja.  \n",
    "- Tulosta datasetistä sarakkeiden nimet, jotka edustavat järjestettyjä attribuutteja (ordinal)."
   ]
  },
  {
   "cell_type": "code",
   "execution_count": 38,
   "metadata": {},
   "outputs": [
    {
     "name": "stdout",
     "output_type": "stream",
     "text": [
      "Nimelliset attribuutit:\n",
      "['title', 'type', 'genres']\n"
     ]
    }
   ],
   "source": [
    "# Nimelliset attribuutit: object-tyyppiset sarakkeet\n",
    "nominal_columns = netflix_df_cleaned.select_dtypes(include=['object']).columns.tolist()\n",
    "print(\"Nimelliset attribuutit:\")\n",
    "print(nominal_columns)"
   ]
  },
  {
   "cell_type": "code",
   "execution_count": 39,
   "metadata": {},
   "outputs": [
    {
     "name": "stdout",
     "output_type": "stream",
     "text": [
      "Binaariset attribuutit:\n",
      "[]\n"
     ]
    }
   ],
   "source": [
    "# Binaariset attribuutit: sarakkeet, joissa on vain kaksi ainutlaatuista arvoa\n",
    "binary_columns = [col for col in netflix_df_cleaned.columns if netflix_df_cleaned[col].nunique() == 2]\n",
    "print(\"Binaariset attribuutit:\")\n",
    "print(binary_columns)"
   ]
  },
  {
   "cell_type": "code",
   "execution_count": 40,
   "metadata": {},
   "outputs": [
    {
     "name": "stdout",
     "output_type": "stream",
     "text": [
      "Järjestetyt attribuutit:\n",
      "['releaseYear', 'imdbAverageRating']\n"
     ]
    }
   ],
   "source": [
    "# Järjestetyt attribuutit: numeeriset sarakkeet (int/float), joita voidaan pitää järjestettyinä\n",
    "ordinal_columns = netflix_df_cleaned.select_dtypes(include=['int64', 'float64']).columns.tolist()\n",
    "print(\"Järjestetyt attribuutit:\")\n",
    "print(ordinal_columns)"
   ]
  },
  {
   "cell_type": "markdown",
   "metadata": {},
   "source": [
    "**Perustilastot**  \n",
    "Tee NumPyn avulla perustilastollisia operaatioita datasetille. Ohjeena voit laskea seuraavat:  \n",
    "- Keskiarvo (Mean)  \n",
    "- Mediaani  \n",
    "- Keskiarvon hajonta (Standard Deviation)  \n",
    "- Varianssi  \n",
    "- Minimi- ja maksimiarvot  \n",
    "- Summa ja tulo"
   ]
  },
  {
   "cell_type": "code",
   "execution_count": 46,
   "metadata": {},
   "outputs": [
    {
     "name": "stdout",
     "output_type": "stream",
     "text": [
      "IMBD avg Rating - Perustilastot\n",
      "\n",
      "Keskiarvo (Mean): 6.217970994664113\n",
      "Mediaani (Median): 6.3\n",
      "Keskiarvon hajonta (Standard Deviation): 1.0473509972063522\n",
      "Varianssi (Variance): 1.0969441113491405\n",
      "Minimiarvo (Minimum): 1.2\n",
      "Maksimiarvo (Maximum): 9.4\n",
      "Summa (Sum): 90894.3\n",
      "Tulo (Product): inf\n"
     ]
    },
    {
     "name": "stderr",
     "output_type": "stream",
     "text": [
      "c:\\Program Files\\Python312\\Lib\\site-packages\\numpy\\_core\\_methods.py:57: RuntimeWarning: overflow encountered in reduce\n",
      "  return umr_prod(a, axis, dtype, out, keepdims, initial, where)\n"
     ]
    }
   ],
   "source": [
    "# Valitaan numeerinen sarake analyysiin (esim. imdbAverageRating)\n",
    "numeric_data = netflix_df_cleaned['imdbAverageRating'].dropna()  # Poistetaan puuttuvat arvot\n",
    "print('IMBD avg Rating - Perustilastot')\n",
    "print()\n",
    "# Keskiarvo (Mean)\n",
    "mean_value = np.mean(numeric_data)\n",
    "print(\"Keskiarvo (Mean):\", mean_value)\n",
    "\n",
    "# Mediaani\n",
    "median_value = np.median(numeric_data)\n",
    "print(\"Mediaani (Median):\", median_value)\n",
    "\n",
    "# Keskiarvon hajonta (Standard Deviation)\n",
    "std_dev = np.std(numeric_data)\n",
    "print(\"Keskiarvon hajonta (Standard Deviation):\", std_dev)\n",
    "\n",
    "# Varianssi\n",
    "variance = np.var(numeric_data)\n",
    "print(\"Varianssi (Variance):\", variance)\n",
    "\n",
    "# Minimiarvo\n",
    "min_value = np.min(numeric_data)\n",
    "print(\"Minimiarvo (Minimum):\", min_value)\n",
    "\n",
    "# Maksimiarvo\n",
    "max_value = np.max(numeric_data)\n",
    "print(\"Maksimiarvo (Maximum):\", max_value)\n",
    "\n",
    "# Summa\n",
    "sum_value = np.sum(numeric_data)\n",
    "print(\"Summa (Sum):\", sum_value)\n",
    "\n",
    "# Tulo\n",
    "product_value = np.prod(numeric_data)\n",
    "print(\"Tulo (Product):\", product_value)"
   ]
  },
  {
   "cell_type": "code",
   "execution_count": null,
   "metadata": {},
   "outputs": [
    {
     "name": "stdout",
     "output_type": "stream",
     "text": [
      "Keskiarvo (Mean): 2010.9485565740868\n",
      "Mediaani (Median): 2017.0\n",
      "Keskiarvon hajonta (Standard Deviation): 15.927521987616545\n",
      "Varianssi (Variance): 253.68595666600854\n",
      "Minimiarvo (Minimum): 1913\n",
      "Maksimiarvo (Maximum): 2024\n",
      "Summa (Sum): 29396046\n",
      "Tulo (Product): 0\n"
     ]
    }
   ],
   "source": [
    "# Valitaan numeerinen sarake analyysiin\n",
    "numeric_data = netflix_df_cleaned['releaseYear'].dropna()  # Poistetaan puuttuvat arvot\n",
    "print('Realease Year - Perustilastot')\n",
    "print()\n",
    "# Keskiarvo (Mean)\n",
    "mean_value = np.mean(numeric_data)\n",
    "print(\"Keskiarvo (Mean):\", mean_value)\n",
    "\n",
    "# Mediaani\n",
    "median_value = np.median(numeric_data)\n",
    "print(\"Mediaani (Median):\", median_value)\n",
    "\n",
    "# Keskiarvon hajonta (Standard Deviation)\n",
    "std_dev = np.std(numeric_data)\n",
    "print(\"Keskiarvon hajonta (Standard Deviation):\", std_dev)\n",
    "\n",
    "# Varianssi\n",
    "variance = np.var(numeric_data)\n",
    "print(\"Varianssi (Variance):\", variance)\n",
    "\n",
    "# Minimiarvo\n",
    "min_value = np.min(numeric_data)\n",
    "print(\"Minimiarvo (Minimum):\", min_value)\n",
    "\n",
    "# Maksimiarvo\n",
    "max_value = np.max(numeric_data)\n",
    "print(\"Maksimiarvo (Maximum):\", max_value)\n",
    "\n",
    "# Summa\n",
    "sum_value = np.sum(numeric_data)\n",
    "print(\"Summa (Sum):\", sum_value)\n",
    "\n",
    "# Tulo\n",
    "product_value = np.prod(numeric_data)\n",
    "print(\"Tulo (Product):\", product_value)"
   ]
  },
  {
   "cell_type": "markdown",
   "metadata": {},
   "source": [
    "**Visualisointi**  \n",
    "Käytä Matplotlibia erilaisten kaavioiden ja graafien luomiseen. Datasetistäsi ja analyysistäsi riippuen voit tehdä seuraavanlaisia visualisointeja:  \n",
    "- Viivakaavio (Line Plot)  \n",
    "- Hajontakaavio (Scatter Plot)  \n",
    "- Pylväsdiagrammi (Bar Chart)  \n",
    "- Histogrammi  \n",
    "- Ympyrädiagrammi (Pie Chart)  \n",
    "- Lämpökartta (Heatmap)  \n",
    "- 3D-kaavio"
   ]
  },
  {
   "cell_type": "code",
   "execution_count": null,
   "metadata": {},
   "outputs": [],
   "source": []
  }
 ],
 "metadata": {
  "kernelspec": {
   "display_name": "Python 3",
   "language": "python",
   "name": "python3"
  },
  "language_info": {
   "codemirror_mode": {
    "name": "ipython",
    "version": 3
   },
   "file_extension": ".py",
   "mimetype": "text/x-python",
   "name": "python",
   "nbconvert_exporter": "python",
   "pygments_lexer": "ipython3",
   "version": "3.12.5"
  }
 },
 "nbformat": 4,
 "nbformat_minor": 2
}
